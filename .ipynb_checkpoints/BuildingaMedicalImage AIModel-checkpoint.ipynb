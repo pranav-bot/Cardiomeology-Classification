{
 "cells": [
  {
   "cell_type": "code",
   "execution_count": 1,
   "id": "e94181fb-9dbb-46ec-b35b-ab4b0caa6332",
   "metadata": {},
   "outputs": [],
   "source": [
    "import pandas as pd"
   ]
  },
  {
   "cell_type": "code",
   "execution_count": 2,
   "id": "9912824d-0b24-416b-b08c-e20fcc72f01d",
   "metadata": {},
   "outputs": [],
   "source": [
    "#Building on Cardiomegaly\n",
    "finding = \"Cardiomegaly\""
   ]
  },
  {
   "cell_type": "code",
   "execution_count": 3,
   "id": "5107c0ad-e44c-44e2-b2ea-226449105631",
   "metadata": {},
   "outputs": [],
   "source": [
    "#loading dataset\n",
    "df = pd.read_csv(\"./labels.csv\")"
   ]
  },
  {
   "cell_type": "code",
   "execution_count": 4,
   "id": "aeb2aa25-4f2a-4ef7-93d0-9fa3d3015675",
   "metadata": {},
   "outputs": [
    {
     "data": {
      "text/html": [
       "<div>\n",
       "<style scoped>\n",
       "    .dataframe tbody tr th:only-of-type {\n",
       "        vertical-align: middle;\n",
       "    }\n",
       "\n",
       "    .dataframe tbody tr th {\n",
       "        vertical-align: top;\n",
       "    }\n",
       "\n",
       "    .dataframe thead th {\n",
       "        text-align: right;\n",
       "    }\n",
       "</style>\n",
       "<table border=\"1\" class=\"dataframe\">\n",
       "  <thead>\n",
       "    <tr style=\"text-align: right;\">\n",
       "      <th></th>\n",
       "      <th>filename</th>\n",
       "      <th>height</th>\n",
       "      <th>width</th>\n",
       "      <th>label</th>\n",
       "      <th>xmin</th>\n",
       "      <th>ymin</th>\n",
       "      <th>xmax</th>\n",
       "      <th>ymax</th>\n",
       "      <th>view</th>\n",
       "    </tr>\n",
       "  </thead>\n",
       "  <tbody>\n",
       "    <tr>\n",
       "      <th>0</th>\n",
       "      <td>00013118_008.jpg</td>\n",
       "      <td>2992</td>\n",
       "      <td>2991</td>\n",
       "      <td>Atelectasis</td>\n",
       "      <td>225.0</td>\n",
       "      <td>547.0</td>\n",
       "      <td>311.0</td>\n",
       "      <td>626.0</td>\n",
       "      <td>PA</td>\n",
       "    </tr>\n",
       "    <tr>\n",
       "      <th>1</th>\n",
       "      <td>00014716_007.jpg</td>\n",
       "      <td>3056</td>\n",
       "      <td>2544</td>\n",
       "      <td>Atelectasis</td>\n",
       "      <td>686.0</td>\n",
       "      <td>131.0</td>\n",
       "      <td>871.0</td>\n",
       "      <td>444.0</td>\n",
       "      <td>AP</td>\n",
       "    </tr>\n",
       "    <tr>\n",
       "      <th>2</th>\n",
       "      <td>00029817_009.jpg</td>\n",
       "      <td>3056</td>\n",
       "      <td>2544</td>\n",
       "      <td>Atelectasis</td>\n",
       "      <td>221.0</td>\n",
       "      <td>317.0</td>\n",
       "      <td>376.0</td>\n",
       "      <td>533.0</td>\n",
       "      <td>AP</td>\n",
       "    </tr>\n",
       "    <tr>\n",
       "      <th>3</th>\n",
       "      <td>00014687_001.jpg</td>\n",
       "      <td>2500</td>\n",
       "      <td>2048</td>\n",
       "      <td>Atelectasis</td>\n",
       "      <td>726.0</td>\n",
       "      <td>494.0</td>\n",
       "      <td>867.0</td>\n",
       "      <td>549.0</td>\n",
       "      <td>AP</td>\n",
       "    </tr>\n",
       "    <tr>\n",
       "      <th>4</th>\n",
       "      <td>00017877_001.jpg</td>\n",
       "      <td>2500</td>\n",
       "      <td>2048</td>\n",
       "      <td>Atelectasis</td>\n",
       "      <td>660.0</td>\n",
       "      <td>569.0</td>\n",
       "      <td>860.0</td>\n",
       "      <td>647.0</td>\n",
       "      <td>AP</td>\n",
       "    </tr>\n",
       "    <tr>\n",
       "      <th>...</th>\n",
       "      <td>...</td>\n",
       "      <td>...</td>\n",
       "      <td>...</td>\n",
       "      <td>...</td>\n",
       "      <td>...</td>\n",
       "      <td>...</td>\n",
       "      <td>...</td>\n",
       "      <td>...</td>\n",
       "      <td>...</td>\n",
       "    </tr>\n",
       "    <tr>\n",
       "      <th>1959</th>\n",
       "      <td>00000506_028.jpg</td>\n",
       "      <td>2500</td>\n",
       "      <td>2048</td>\n",
       "      <td>No Finding</td>\n",
       "      <td>NaN</td>\n",
       "      <td>NaN</td>\n",
       "      <td>NaN</td>\n",
       "      <td>NaN</td>\n",
       "      <td>AP</td>\n",
       "    </tr>\n",
       "    <tr>\n",
       "      <th>1960</th>\n",
       "      <td>00000506_029.jpg</td>\n",
       "      <td>2500</td>\n",
       "      <td>2048</td>\n",
       "      <td>No Finding</td>\n",
       "      <td>NaN</td>\n",
       "      <td>NaN</td>\n",
       "      <td>NaN</td>\n",
       "      <td>NaN</td>\n",
       "      <td>AP</td>\n",
       "    </tr>\n",
       "    <tr>\n",
       "      <th>1961</th>\n",
       "      <td>00000506_030.jpg</td>\n",
       "      <td>2500</td>\n",
       "      <td>2048</td>\n",
       "      <td>No Finding</td>\n",
       "      <td>NaN</td>\n",
       "      <td>NaN</td>\n",
       "      <td>NaN</td>\n",
       "      <td>NaN</td>\n",
       "      <td>AP</td>\n",
       "    </tr>\n",
       "    <tr>\n",
       "      <th>1962</th>\n",
       "      <td>00000507_000.jpg</td>\n",
       "      <td>2766</td>\n",
       "      <td>2801</td>\n",
       "      <td>No Finding</td>\n",
       "      <td>NaN</td>\n",
       "      <td>NaN</td>\n",
       "      <td>NaN</td>\n",
       "      <td>NaN</td>\n",
       "      <td>PA</td>\n",
       "    </tr>\n",
       "    <tr>\n",
       "      <th>1963</th>\n",
       "      <td>00000508_002.jpg</td>\n",
       "      <td>2500</td>\n",
       "      <td>2048</td>\n",
       "      <td>No Finding</td>\n",
       "      <td>NaN</td>\n",
       "      <td>NaN</td>\n",
       "      <td>NaN</td>\n",
       "      <td>NaN</td>\n",
       "      <td>AP</td>\n",
       "    </tr>\n",
       "  </tbody>\n",
       "</table>\n",
       "<p>1964 rows × 9 columns</p>\n",
       "</div>"
      ],
      "text/plain": [
       "              filename  height  width        label   xmin   ymin   xmax  \\\n",
       "0     00013118_008.jpg    2992   2991  Atelectasis  225.0  547.0  311.0   \n",
       "1     00014716_007.jpg    3056   2544  Atelectasis  686.0  131.0  871.0   \n",
       "2     00029817_009.jpg    3056   2544  Atelectasis  221.0  317.0  376.0   \n",
       "3     00014687_001.jpg    2500   2048  Atelectasis  726.0  494.0  867.0   \n",
       "4     00017877_001.jpg    2500   2048  Atelectasis  660.0  569.0  860.0   \n",
       "...                ...     ...    ...          ...    ...    ...    ...   \n",
       "1959  00000506_028.jpg    2500   2048   No Finding    NaN    NaN    NaN   \n",
       "1960  00000506_029.jpg    2500   2048   No Finding    NaN    NaN    NaN   \n",
       "1961  00000506_030.jpg    2500   2048   No Finding    NaN    NaN    NaN   \n",
       "1962  00000507_000.jpg    2766   2801   No Finding    NaN    NaN    NaN   \n",
       "1963  00000508_002.jpg    2500   2048   No Finding    NaN    NaN    NaN   \n",
       "\n",
       "       ymax view  \n",
       "0     626.0   PA  \n",
       "1     444.0   AP  \n",
       "2     533.0   AP  \n",
       "3     549.0   AP  \n",
       "4     647.0   AP  \n",
       "...     ...  ...  \n",
       "1959    NaN   AP  \n",
       "1960    NaN   AP  \n",
       "1961    NaN   AP  \n",
       "1962    NaN   PA  \n",
       "1963    NaN   AP  \n",
       "\n",
       "[1964 rows x 9 columns]"
      ]
     },
     "execution_count": 4,
     "metadata": {},
     "output_type": "execute_result"
    }
   ],
   "source": [
    "df"
   ]
  },
  {
   "cell_type": "code",
   "execution_count": 9,
   "id": "91cc25c0-0d82-4065-aab1-91f5d8fc76a1",
   "metadata": {},
   "outputs": [
    {
     "data": {
      "text/plain": [
       "146"
      ]
     },
     "execution_count": 9,
     "metadata": {},
     "output_type": "execute_result"
    }
   ],
   "source": [
    "#finding the number of positives and negatives of Cardiomegaly on the dataset\n",
    "\n",
    "positives = df.loc[df[\"label\"] == finding]\n",
    "negatives = df.loc[df[\"label\"] != finding]\n",
    "n = len(positives)\n",
    "n"
   ]
  },
  {
   "cell_type": "code",
   "execution_count": 11,
   "id": "01f907e2-f507-4e01-8a88-513690167788",
   "metadata": {},
   "outputs": [
    {
     "name": "stdout",
     "output_type": "stream",
     "text": [
      "116 29\n"
     ]
    }
   ],
   "source": [
    "#Defining train and test ratios\n",
    "\n",
    "TRAIN_RATIO = 0.8\n",
    "TEST_RATIO = 0.2\n",
    "TRAIN_N = int(n*TRAIN_RATIO)\n",
    "TEST_N = int(n*TEST_RATIO)\n",
    "print(TRAIN_N, TEST_N)"
   ]
  },
  {
   "cell_type": "code",
   "execution_count": 17,
   "id": "04268b70-d0ce-43bc-89d1-2ce003809799",
   "metadata": {},
   "outputs": [],
   "source": [
    "#Making the number of positives and negatives equal for better accuracy\n",
    "train_labels = pd.concat([positives[:TRAIN_N], negatives[:TRAIN_N]])\n",
    "test_labels = pd.concat([positives[TRAIN_N:], negatives[TRAIN_N:n]])"
   ]
  },
  {
   "cell_type": "markdown",
   "id": "508b9f45-5a97-4fbd-9ce3-9dfca3f96366",
   "metadata": {},
   "source": [
    "## Preparing the Data"
   ]
  },
  {
   "cell_type": "code",
   "execution_count": 29,
   "id": "a82a72f4-5240-4d7c-a1f4-946995a10f60",
   "metadata": {},
   "outputs": [],
   "source": [
    "#making the directories\n",
    "import os\n",
    "rootdir = \"./images/\"\n",
    "os.makedirs(rootdir+finding+\"test/positive\")\n",
    "os.makedirs(rootdir+finding+\"train/positive\")\n",
    "os.makedirs(rootdir+finding+\"test/negative\")\n",
    "os.makedirs(rootdir+finding+\"train/negative\")"
   ]
  },
  {
   "cell_type": "code",
   "execution_count": 34,
   "id": "feb781a8-8c1b-4168-89ea-1d027e2eb60c",
   "metadata": {},
   "outputs": [],
   "source": [
    "#transfer images to folders\n",
    "import shutil\n",
    "for idx, image in positives[:TRAIN_N].iterrows():\n",
    "    source = rootdir+image[\"filename\"]\n",
    "    dst = rootdir+finding+\"train/positive/\"+image[\"filename\"]\n",
    "    shutil.copy(source,dst)"
   ]
  },
  {
   "cell_type": "code",
   "execution_count": 35,
   "id": "92d5a19d-b0f7-4549-a0f7-dafa28ace376",
   "metadata": {},
   "outputs": [],
   "source": [
    "for idx, image in positives[TRAIN_N:].iterrows():\n",
    "    source = rootdir+image[\"filename\"]\n",
    "    dst = rootdir+finding+\"test/positive/\"+image[\"filename\"]\n",
    "    shutil.copy(source,dst)\n",
    "\n",
    "for idx, image in negatives[:TRAIN_N].iterrows():\n",
    "    source = rootdir+image[\"filename\"]\n",
    "    dst = rootdir+finding+\"train/negative/\"+image[\"filename\"]\n",
    "    shutil.copy(source,dst)\n",
    "\n",
    "for idx, image in negatives[TRAIN_N:].iterrows():\n",
    "    source = rootdir+image[\"filename\"]\n",
    "    dst = rootdir+finding+\"test/negative/\"+image[\"filename\"]\n",
    "    shutil.copy(source,dst)"
   ]
  },
  {
   "cell_type": "code",
   "execution_count": 28,
   "id": "489999cb-504a-40f0-98e1-46d1e86f4096",
   "metadata": {},
   "outputs": [
    {
     "data": {
      "text/plain": [
       "(30, 9)"
      ]
     },
     "execution_count": 28,
     "metadata": {},
     "output_type": "execute_result"
    }
   ],
   "source": [
    "#Loading first six images\n",
    "from PIL import Image, ImageDraw, ImageFont\n",
    "import numpy\n",
    "positive_imgs, negative_imgs = [], []\n",
    "IMAGE_HEIGHT, IMAGE_WIDTH = 256, 256\n",
    "\n",
    "for idx, row in positives[:6].iterrows():\n",
    "    image_path = rootdir+row[\"filename'\"]\n",
    "    image = Image.open(image_path).resize(IMAGE_WIDTH, IMAGE_HEIGHT)\n",
    "    positive_imgs.append(load_image_into_numpy_array(image))\n",
    "\n",
    "for idx, row in negatives[:6].iterrows():\n",
    "    image_path = rootdir+row[\"filename'\"]\n",
    "    image = Image.open(image_path).resize(IMAGE_WIDTH, IMAGE_HEIGHT)\n",
    "    negative_imgs.append(load_image_into_numpy_array(image))\n",
    "\n",
    "for idx, img in enumerate(positive_imgs[:6]):\n",
    "    plt.subplot"
   ]
  },
  {
   "cell_type": "code",
   "execution_count": null,
   "id": "ad09c296-386e-464d-a634-43f220c74c49",
   "metadata": {},
   "outputs": [],
   "source": []
  }
 ],
 "metadata": {
  "kernelspec": {
   "display_name": "Python 3 (ipykernel)",
   "language": "python",
   "name": "python3"
  },
  "language_info": {
   "codemirror_mode": {
    "name": "ipython",
    "version": 3
   },
   "file_extension": ".py",
   "mimetype": "text/x-python",
   "name": "python",
   "nbconvert_exporter": "python",
   "pygments_lexer": "ipython3",
   "version": "3.9.0"
  }
 },
 "nbformat": 4,
 "nbformat_minor": 5
}
